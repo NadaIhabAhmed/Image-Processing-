{
  "nbformat": 4,
  "nbformat_minor": 0,
  "metadata": {
    "kernelspec": {
      "display_name": "Python 3",
      "language": "python",
      "name": "python3"
    },
    "language_info": {
      "codemirror_mode": {
        "name": "ipython",
        "version": 3
      },
      "file_extension": ".py",
      "mimetype": "text/x-python",
      "name": "python",
      "nbconvert_exporter": "python",
      "pygments_lexer": "ipython3",
      "version": "3.7.4"
    },
    "colab": {
      "name": "Project v1.ipynb",
      "provenance": [],
      "collapsed_sections": [],
      "toc_visible": true
    }
  },
  "cells": [
    {
      "cell_type": "code",
      "metadata": {
        "id": "td36B4GHCdJ7",
        "colab_type": "code",
        "colab": {}
      },
      "source": [
        "import numpy as np # needed for array operations\n",
        "import matplotlib.pyplot as plt # to show the images\n",
        "import os # to iterate through directories join paths \n",
        "import cv2 \n",
        "import random  # used for shuffling the dataset\n",
        "import pickle  # used for saving the model\n",
        "\n",
        "\n",
        "DATADIR = \"/content\"\n",
        "CATEGORIES = [\"And\", \"Or\"]\n",
        "\n",
        "# iterate through categories\n",
        "for category in CATEGORIES:\n",
        "    path = os.path.join(DATADIR, category)  # path to all the categories that we have (currently we have 2: Ands and Ors)\n",
        "    # once we have the path to each category we can iterate through them \n",
        "    for img in os.listdir(path):\n",
        "        # color is not a differentiating factor between ands and ors and also a grayscale image is less in size than an RGB image\n",
        "        img_array = cv2.imread(os.path.join(path, img), cv2.IMREAD_GRAYSCALE) # store the full path to each image in an array\n",
        "   "
      ],
      "execution_count": 0,
      "outputs": []
    },
    {
      "cell_type": "code",
      "metadata": {
        "id": "lO3eGLSKtHgA",
        "colab_type": "code",
        "colab": {}
      },
      "source": [
        ""
      ],
      "execution_count": 0,
      "outputs": []
    },
    {
      "cell_type": "code",
      "metadata": {
        "id": "GN_mpBovCdKI",
        "colab_type": "code",
        "outputId": "618a6f29-6829-42d3-9436-e03cae336a48",
        "colab": {
          "base_uri": "https://localhost:8080/",
          "height": 34
        }
      },
      "source": [
        "print(img_array.shape)"
      ],
      "execution_count": 169,
      "outputs": [
        {
          "output_type": "stream",
          "text": [
            "(87, 229)\n"
          ],
          "name": "stdout"
        }
      ]
    },
    {
      "cell_type": "code",
      "metadata": {
        "id": "hHiRh9JiCdKR",
        "colab_type": "code",
        "outputId": "1df5f69a-c1a0-4ffc-e56b-bbe7f11c18da",
        "colab": {
          "base_uri": "https://localhost:8080/",
          "height": 269
        }
      },
      "source": [
        "# Normalization of images\n",
        "# Keeping them all the same size for simplicity\n",
        "\n",
        "IMG_SIZE = 300\n",
        "new_array = cv2.resize(img_array, (IMG_SIZE, IMG_SIZE))\n",
        "plt.imshow(new_array, cmap=\"gray\")\n",
        "plt.show()"
      ],
      "execution_count": 170,
      "outputs": [
        {
          "output_type": "display_data",
          "data": {
            "image/png": "[encoded data removed]",
            "text/plain": [
              "<Figure size 432x288 with 1 Axes>"
            ]
          },
          "metadata": {
            "tags": []
          }
        }
      ]
    },
    {
      "cell_type": "code",
      "metadata": {
        "id": "p6vBUy1XCdKZ",
        "colab_type": "code",
        "colab": {}
      },
      "source": [
        "# Create training dataset\n",
        "\n",
        "training_data = []\n",
        "def create_training_data():\n",
        "    for category in CATEGORIES:\n",
        "        path = os.path.join(DATADIR, category)  # path to all the categories that we have (currently we have 2: Ands and Ors)\n",
        "        class_num = CATEGORIES.index(category)\n",
        "        # once we have the path to each category we can iterate through them \n",
        "        for img in os.listdir(path):\n",
        "            # color is not a differentiating factor between ands and ors and also a grayscale image is less in size than an RGB image\n",
        "            try:\n",
        "                img_array = cv2.imread(os.path.join(path, img), cv2.IMREAD_GRAYSCALE) # store the full path to each image in an array\n",
        "                new_array = cv2.resize(img_array, (IMG_SIZE, IMG_SIZE))\n",
        "                training_data.append([new_array, class_num])\n",
        "            except Exception as e:\n",
        "                pass # if there is an exception like a broken image or anything just pass it\n",
        "            \n",
        "            \n",
        "create_training_data()"
      ],
      "execution_count": 0,
      "outputs": []
    },
    {
      "cell_type": "code",
      "metadata": {
        "id": "HWEtC8h6CdKg",
        "colab_type": "code",
        "outputId": "7ae71138-9992-4692-98c1-4584a78999c5",
        "colab": {
          "base_uri": "https://localhost:8080/",
          "height": 34
        }
      },
      "source": [
        "print(len(training_data))"
      ],
      "execution_count": 172,
      "outputs": [
        {
          "output_type": "stream",
          "text": [
            "286\n"
          ],
          "name": "stdout"
        }
      ]
    },
    {
      "cell_type": "code",
      "metadata": {
        "id": "ikN0UEagCdKm",
        "colab_type": "code",
        "colab": {}
      },
      "source": [
        "#  shuffling the dataset so that the model learns better\n",
        "\n",
        "random.shuffle(training_data)"
      ],
      "execution_count": 0,
      "outputs": []
    },
    {
      "cell_type": "code",
      "metadata": {
        "id": "BXoYNGGwCdKv",
        "colab_type": "code",
        "outputId": "a879fe3b-5382-4e65-d943-87ab89ab6179",
        "colab": {
          "base_uri": "https://localhost:8080/",
          "height": 185
        }
      },
      "source": [
        "for sample in training_data[ : 10]:\n",
        "    print(sample[1]) # sample[0] is the actual image array itself\n",
        "    "
      ],
      "execution_count": 174,
      "outputs": [
        {
          "output_type": "stream",
          "text": [
            "0\n",
            "0\n",
            "1\n",
            "0\n",
            "1\n",
            "1\n",
            "1\n",
            "1\n",
            "1\n",
            "0\n"
          ],
          "name": "stdout"
        }
      ]
    },
    {
      "cell_type": "code",
      "metadata": {
        "id": "G_qaygACCdK3",
        "colab_type": "code",
        "colab": {}
      },
      "source": [
        "# now we are gonna put our shuffled data in two variables X, and Y before we feed it into our neural networks\n",
        "X = []  # feature set \n",
        "Y = []  # labels\n",
        "\n",
        "for features, lables in training_data:\n",
        "    X.append(features)  # new_array that contaings images\n",
        "    Y.append(lables)  # class_num that contains the index of the image (0 -> and, 1 -> or)\n",
        "    \n",
        "# convert X into a numpy array but keep Y as it is (a list)\n",
        "X = np.array(X, np.float32).reshape(-1, IMG_SIZE, IMG_SIZE, 1)  # where -1 is the size of the array of image (it could be any number) and 1 as they are grayscale\n",
        "Y = np.array(Y, np.float32)\n",
        "\n"
      ],
      "execution_count": 0,
      "outputs": []
    },
    {
      "cell_type": "code",
      "metadata": {
        "id": "ZOLrBDy6CdK9",
        "colab_type": "code",
        "colab": {}
      },
      "source": [
        "#  for saving data\n",
        "pickle_out = open(\"X.pickle\", \"wb\")\n",
        "pickle.dump(X, pickle_out)\n",
        "pickle_out.close()\n",
        "\n",
        "pickle_out = open(\"Y.pickle\", \"wb\")\n",
        "pickle.dump(Y, pickle_out)\n",
        "pickle_out.close()\n",
        "\n"
      ],
      "execution_count": 0,
      "outputs": []
    },
    {
      "cell_type": "code",
      "metadata": {
        "id": "h6aARRuhCdLD",
        "colab_type": "code",
        "colab": {}
      },
      "source": [
        "# for reading data\n",
        "\n",
        "pickle_in = open(\"X.pickle\", \"rb\")\n",
        "X = pickle.load(pickle_in)\n",
        "pickle_in = open(\"Y.pickle\", \"rb\")\n",
        "Y = pickle.load(pickle_in)"
      ],
      "execution_count": 0,
      "outputs": []
    },
    {
      "cell_type": "code",
      "metadata": {
        "id": "HFBu9Tx8CdLJ",
        "colab_type": "code",
        "outputId": "98fc43b4-58a4-43c7-a065-cbfcff65cc4d",
        "colab": {
          "base_uri": "https://localhost:8080/",
          "height": 34
        }
      },
      "source": [
        "#X[1]\n",
        "Y[1]"
      ],
      "execution_count": 178,
      "outputs": [
        {
          "output_type": "execute_result",
          "data": {
            "text/plain": [
              "0.0"
            ]
          },
          "metadata": {
            "tags": []
          },
          "execution_count": 178
        }
      ]
    },
    {
      "cell_type": "markdown",
      "metadata": {
        "id": "3GPEe7r3EG4T",
        "colab_type": "text"
      },
      "source": [
        "# Neural Network\n"
      ]
    },
    {
      "cell_type": "code",
      "metadata": {
        "id": "RyN6XsvxCdLV",
        "colab_type": "code",
        "outputId": "eea28774-874a-4e05-88fd-1ad02716939e",
        "colab": {
          "base_uri": "https://localhost:8080/",
          "height": 353
        }
      },
      "source": [
        "import tensorflow as tf\n",
        "#from tensorflow.keras.models import sequential\n",
        "from tensorflow.keras.models import Sequential\n",
        "from tensorflow.keras.layers import Dense, Dropout, Activation, Flatten, Conv2D, MaxPooling2D\n",
        "\n",
        "# import pickle\n",
        "\n",
        "pickle_in = open(\"X.pickle\",\"rb\")\n",
        "X = pickle.load(pickle_in)\n",
        "\n",
        "pickle_in = open(\"Y.pickle\",\"rb\")\n",
        "Y = pickle.load(pickle_in)\n",
        "# Data Normalization\n",
        "X = X/255.0\n",
        "\n",
        "# FIRST CNN LAYER\n",
        "model = Sequential()  # simple sequential model\n",
        "model.add(Conv2D(64, (3, 3), input_shape = X.shape[1:]))  # start with the convolutional layer, then specify the window(3 x 3)\n",
        "model.add(Activation(\"relu\"))  # activation layer (rectifying linear)\n",
        "model.add(MaxPooling2D(pool_size=(2, 2)))\n",
        "\n",
        "# SECOND CNN LAYER\n",
        "model = Sequential()  # simple sequential model\n",
        "model.add(Conv2D(64, (3, 3)))  # start with the convolutional layer, then specify the window(3 x 3)\n",
        "model.add(Activation(\"relu\"))  # activation layer (rectifying linear)\n",
        "model.add(MaxPooling2D(pool_size=(2, 2)))\n",
        "\n",
        "# ADD A FINAL DENSE LAYER\n",
        "# since the dense layer is a 1-D dataset so we must flatten the datafirst\n",
        "model.add(Flatten())\n",
        "model.add(Dense(64))\n",
        "\n",
        "# output layer\n",
        "model.add(Dense(1))\n",
        "model.add(Activation('sigmoid'))\n",
        "\n",
        "\n",
        "\n",
        "model.compile(loss=\"binary_crossentropy\", optimizer=\"adam\", metrics=['accuracy'])\n",
        "history = model.fit(X, Y, batch_size=5, epochs=10, validation_split=0.2)   # if the data is huge (billions) make the samples go in thounsand per one go, in the tutorial the number was 32\n",
        "\n",
        "\n",
        "\n",
        "\n"
      ],
      "execution_count": 179,
      "outputs": [
        {
          "output_type": "stream",
          "text": [
            "Epoch 1/10\n",
            "46/46 [==============================] - 38s 833ms/step - loss: 60.8432 - accuracy: 0.4825 - val_loss: 0.7710 - val_accuracy: 0.5345\n",
            "Epoch 2/10\n",
            "46/46 [==============================] - 38s 818ms/step - loss: 0.5713 - accuracy: 0.6930 - val_loss: 0.6036 - val_accuracy: 0.6552\n",
            "Epoch 3/10\n",
            "46/46 [==============================] - 37s 814ms/step - loss: 0.3655 - accuracy: 0.8158 - val_loss: 0.6006 - val_accuracy: 0.7586\n",
            "Epoch 4/10\n",
            "46/46 [==============================] - 38s 824ms/step - loss: 0.3558 - accuracy: 0.8728 - val_loss: 2.2201 - val_accuracy: 0.5345\n",
            "Epoch 5/10\n",
            "46/46 [==============================] - 38s 830ms/step - loss: 0.2730 - accuracy: 0.9079 - val_loss: 0.5613 - val_accuracy: 0.7931\n",
            "Epoch 6/10\n",
            "46/46 [==============================] - 38s 831ms/step - loss: 0.6163 - accuracy: 0.8728 - val_loss: 0.8415 - val_accuracy: 0.6724\n",
            "Epoch 7/10\n",
            "46/46 [==============================] - 41s 883ms/step - loss: 0.2042 - accuracy: 0.9342 - val_loss: 0.6411 - val_accuracy: 0.7069\n",
            "Epoch 8/10\n",
            "46/46 [==============================] - 42s 905ms/step - loss: 0.1657 - accuracy: 0.9518 - val_loss: 0.6612 - val_accuracy: 0.7414\n",
            "Epoch 9/10\n",
            "46/46 [==============================] - 41s 892ms/step - loss: 0.1720 - accuracy: 0.9474 - val_loss: 0.5651 - val_accuracy: 0.7241\n",
            "Epoch 10/10\n",
            "46/46 [==============================] - 41s 893ms/step - loss: 0.1404 - accuracy: 0.9737 - val_loss: 0.6448 - val_accuracy: 0.7414\n"
          ],
          "name": "stdout"
        }
      ]
    },
    {
      "cell_type": "code",
      "metadata": {
        "id": "fZ2AvElRXxb6",
        "colab_type": "code",
        "outputId": "7013e1ae-fc18-4873-da3f-01ad28874e76",
        "colab": {
          "base_uri": "https://localhost:8080/",
          "height": 362
        }
      },
      "source": [
        "\n",
        "\n",
        "# Saving the model\n",
        "model_json = model.to_json()\n",
        "with open(\"model.json\", \"w\") as json_file :\n",
        "\tjson_file.write(model_json)\n",
        "\n",
        "model.save_weights(\"model.h5\")\n",
        "print(\"Saved model to disk\")\n",
        "\n",
        "model.save('CNN.model')\n",
        "\n",
        "# Printing a graph showing the accuracy changes during the training phase\n",
        "print(history.history.keys())\n",
        "plt.figure(1)\n",
        "plt.plot(history.history['accuracy'])\n",
        "plt.plot(history.history['val_accuracy'])\n",
        "plt.title('model accuracy')\n",
        "plt.ylabel('accuracy')\n",
        "plt.xlabel('epoch')\n",
        "plt.legend(['train', 'validation'], loc='upper left')\n",
        "\n",
        "\n"
      ],
      "execution_count": 180,
      "outputs": [
        {
          "output_type": "stream",
          "text": [
            "Saved model to disk\n",
            "INFO:tensorflow:Assets written to: CNN.model/assets\n",
            "dict_keys(['loss', 'accuracy', 'val_loss', 'val_accuracy'])\n"
          ],
          "name": "stdout"
        },
        {
          "output_type": "execute_result",
          "data": {
            "text/plain": [
              "<matplotlib.legend.Legend at 0x7fea0a674940>"
            ]
          },
          "metadata": {
            "tags": []
          },
          "execution_count": 180
        },
        {
          "output_type": "display_data",
          "data": {
            "image/png": "[encoded data removed]",
            "text/plain": [
              "<Figure size 432x288 with 1 Axes>"
            ]
          },
          "metadata": {
            "tags": []
          }
        }
      ]
    },
    {
      "cell_type": "code",
      "metadata": {
        "id": "kwabjvMtXY2e",
        "colab_type": "code",
        "colab": {}
      },
      "source": [
        ""
      ],
      "execution_count": 0,
      "outputs": []
    },
    {
      "cell_type": "code",
      "metadata": {
        "id": "hfbGEUAIXyLq",
        "colab_type": "code",
        "outputId": "7e4c4c35-d058-48c0-e1a2-10bc6ba8da49",
        "colab": {
          "base_uri": "https://localhost:8080/",
          "height": 101
        }
      },
      "source": [
        "\n",
        "model = tf.keras.models.load_model(\"CNN.model\")\n",
        "def prepare(file_name):\n",
        "  image = cv2.imread(\"/content/test/\"+file_name, cv2.IMREAD_GRAYSCALE)\n",
        "  image = cv2.resize(image, (IMG_SIZE, IMG_SIZE))\n",
        "  image = np.array(image, np.float32).reshape(-1, IMG_SIZE, IMG_SIZE, 1)\n",
        "  return model.predict(image)\n",
        "\n",
        "\n",
        "\n",
        "test_dir = \"/content\"\n",
        "CATEGS = [\"test\"]\n",
        "\n",
        "# iterate through categories\n",
        "for categ in CATEGS:\n",
        "    path = os.path.join(test_dir, categ)  # path to all the categories that we have (currently we have 2: Ands and Ors)\n",
        "    # once we have the path to each category we can iterate through them \n",
        "    for img in os.listdir(path):\n",
        "        prediction = prepare(img)\n",
        "        prediction = list(prediction[0])\n",
        "        #print(CATEGORIES[prediction.index(max(prediction))])\n",
        "        #print(CATEGORIES[prediction.index(min(prediction))])\n",
        "        print(CATEGORIES[int(prediction[0])])\n",
        "\n"
      ],
      "execution_count": 217,
      "outputs": [
        {
          "output_type": "stream",
          "text": [
            "And\n",
            "Or\n",
            "Or\n",
            "And\n",
            "Or\n"
          ],
          "name": "stdout"
        }
      ]
    },
    {
      "cell_type": "code",
      "metadata": {
        "id": "iidY8hTHDQ4N",
        "colab_type": "code",
        "colab": {}
      },
      "source": [
        ""
      ],
      "execution_count": 0,
      "outputs": []
    },
    {
      "cell_type": "code",
      "metadata": {
        "id": "VGyFDgzPXyO1",
        "colab_type": "code",
        "colab": {}
      },
      "source": [
        ""
      ],
      "execution_count": 0,
      "outputs": []
    },
    {
      "cell_type": "code",
      "metadata": {
        "id": "-bpBxpmIXySP",
        "colab_type": "code",
        "colab": {}
      },
      "source": [
        ""
      ],
      "execution_count": 0,
      "outputs": []
    }
  ]
}